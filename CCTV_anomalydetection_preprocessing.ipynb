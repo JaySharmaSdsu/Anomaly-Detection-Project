{
  "nbformat": 4,
  "nbformat_minor": 0,
  "metadata": {
    "colab": {
      "provenance": [],
      "collapsed_sections": [],
      "authorship_tag": "ABX9TyPRYwXUXt6psUDLGp/fWjol",
      "include_colab_link": true
    },
    "kernelspec": {
      "name": "python3",
      "display_name": "Python 3"
    },
    "language_info": {
      "name": "python"
    }
  },
  "cells": [
    {
      "cell_type": "markdown",
      "metadata": {
        "id": "view-in-github",
        "colab_type": "text"
      },
      "source": [
        "<a href=\"https://colab.research.google.com/github/shadfdz/CCTV/blob/main/CCTV_anomalydetection_preprocessing.ipynb\" target=\"_parent\"><img src=\"https://colab.research.google.com/assets/colab-badge.svg\" alt=\"Open In Colab\"/></a>"
      ]
    },
    {
      "cell_type": "markdown",
      "source": [
        "# PreProcessing and Data Exploration (Supervised)\n",
        "\n",
        "\n",
        "> The CCTV dataset is composed of 11 folders containing flood control inspection footage of different areas in Imperial City grouped by year althought some years have multiplke folders. Some folders contain video screenahots of anomalies in the strcucture (i.e roots, cracks, vermin), which where then used to generate pdf reports which are contained in the folder. The folder 'CCTV_2014_10_Downstream' was selected since it contained detailed pdf reports of each manhole footage as well as better quality screenshots compared to other years (some years do not have detailed reports and are unstructured). The folder contains 25 separate video clips ranging from 6-18 minutes."
      ],
      "metadata": {
        "id": "DxnyZNWkhfnt"
      }
    },
    {
      "cell_type": "code",
      "execution_count": null,
      "metadata": {
        "id": "FPHKDLHt14I5",
        "colab": {
          "base_uri": "https://localhost:8080/"
        },
        "outputId": "4231038e-ab9f-4b1d-d21b-229042bde31a"
      },
      "outputs": [
        {
          "output_type": "stream",
          "name": "stdout",
          "text": [
            "Mounted at /content/drive\n"
          ]
        }
      ],
      "source": [
        "# import libraries\n",
        "# %config Completer.use_jedi = False\n",
        "import cv2\n",
        "import matplotlib.pyplot as plt\n",
        "import numpy as np\n",
        "import os\n",
        "import re\n",
        "import pickle\n",
        "import pandas as pd\n",
        "import glob\n",
        "\n",
        "from google.colab import drive\n",
        "from google.colab.patches import cv2_imshow\n",
        "from random import sample\n",
        "\n",
        "drive.mount('/content/drive',force_remount=True)\n",
        "# !ls drive/MyDrive/CCTV/CCTV_2014_10_Downstream"
      ]
    },
    {
      "cell_type": "code",
      "source": [
        "# find cctv videos in CCTV subfolder - 2014 Downstream\n",
        "cctv_folder_path = 'drive/MyDrive/CCTV/'\n",
        "cctv_subfolder = \"CCTV_2014_10_Downstream/\"\n",
        "cctv_filenames = []\n",
        "for file in os.listdir(cctv_folder_path + cctv_subfolder):\n",
        "  if file.endswith(\".wmv\"):\n",
        "    print(file)\n",
        "    cctv_filenames.append(file)"
      ],
      "metadata": {
        "colab": {
          "base_uri": "https://localhost:8080/"
        },
        "id": "AqafagbTas79",
        "outputId": "17ed84b5-62eb-4d1d-c739-1c0df026e298"
      },
      "execution_count": null,
      "outputs": [
        {
          "output_type": "stream",
          "name": "stdout",
          "text": [
            "1_DE_107_346.wmv\n",
            "1_578_346.wmv\n",
            "1_346_332.wmv\n",
            "1_DE_111_597.wmv\n",
            "1_597_688.wmv\n",
            "1_348_360.wmv\n",
            "1_350_362.wmv\n",
            "1_352_363.wmv\n",
            "1_354_364.wmv\n",
            "1_DE_101_336.wmv\n",
            "1_336_337.wmv\n",
            "1_341_302.wmv\n",
            "1_DE_110_355.wmv\n",
            "1_355_342.wmv\n",
            "1_DE_165_552.wmv\n",
            "1_552_531.wmv\n",
            "1_531_530.wmv\n",
            "1_530_367.wmv\n",
            "1_342_341.wmv\n",
            "1_341_302_1.wmv\n",
            "1_341_302_1_2.wmv\n",
            "1_523_425.wmv\n",
            "1_524_523.wmv\n",
            "1_525_524.wmv\n",
            "1_529_528.wmv\n",
            "1_528_526.wmv\n"
          ]
        }
      ]
    },
    {
      "cell_type": "markdown",
      "source": [
        "# Data Exploration and Sampling\n",
        "\n",
        "> Sample each video every second and export to google drive\n",
        "\n"
      ],
      "metadata": {
        "id": "uOvmi3y-hq6w"
      }
    },
    {
      "cell_type": "code",
      "source": [
        "# import sample footage\n",
        "f_name = cctv_filenames[20]\n",
        "vid_raw = cv2.VideoCapture(cctv_folder_path + cctv_subfolder + f_name)\n",
        "\n",
        "# define function to import multiple mpg files - scale up"
      ],
      "metadata": {
        "id": "XV3899la3o6O"
      },
      "execution_count": null,
      "outputs": []
    },
    {
      "cell_type": "code",
      "source": [
        "# examine frame properties of video\n",
        "if (vid_raw.isOpened() == False):\n",
        "    print('Video Import Not Successfull')\n",
        "\n",
        "else: \n",
        "  frame_count = vid_raw.get(cv2.CAP_PROP_FRAME_COUNT)\n",
        "  print('Frame Count: {}'.format(frame_count))\n",
        "\n",
        "  fps = vid_raw.get(cv2.CAP_PROP_FPS)\n",
        "  print('FPS: {}'.format(fps))\n",
        "\n",
        "  length = frame_count / ( fps )\n",
        "  print('Length: {:.2f} minutes'.format(length))\n",
        "\n",
        "  width = vid_raw.get(cv2.CAP_PROP_FRAME_WIDTH)\n",
        "  height = vid_raw.get(cv2.CAP_PROP_FRAME_HEIGHT)\n",
        "  print('Width: {}px, Height: {}px'.format(width, height))\n"
      ],
      "metadata": {
        "colab": {
          "base_uri": "https://localhost:8080/"
        },
        "id": "6v7VZPZaS3wX",
        "outputId": "38632f2a-5dfd-4617-9939-d9fd8739f504"
      },
      "execution_count": null,
      "outputs": [
        {
          "output_type": "stream",
          "name": "stdout",
          "text": [
            "Frame Count: 10874.0\n",
            "FPS: 29.97002997002997\n",
            "Length: 362.83 minutes\n",
            "Width: 640.0px, Height: 480.0px\n"
          ]
        }
      ]
    },
    {
      "cell_type": "code",
      "source": [
        "# create a function to caputre dataframes\n",
        "def video_to_frames(vid_cap, directory, output_folder, f_name, subdirectory=False):\n",
        "  \"\"\"\n",
        "  function retreives video caputre instance and saves video frames per second in a \n",
        "  subdirectory named after video file. file saved as jpg with video file name + sec\n",
        "  data frame returned with file names of frames \n",
        "  :param vid_cap: instance of cv2 video capture\n",
        "  :param output_folder: str of output folder name\n",
        "  :param directory: str directory path\n",
        "  :param f_name: str cctv filename\n",
        "  :return: dataframe\n",
        "  \"\"\"\n",
        "  # retrieve if frame exists\n",
        "  frame_exists, frame = vid_cap.read()\n",
        "  # to hold data for df\n",
        "  frames_data_array = []\n",
        "  # get vid properties\n",
        "  width = vid_cap.get(cv2.CAP_PROP_FRAME_WIDTH)\n",
        "  height = vid_cap.get(cv2.CAP_PROP_FRAME_HEIGHT)\n",
        "  length = int(vid_cap.get(cv2.CAP_PROP_FRAME_COUNT) / vid_cap.get(cv2.CAP_PROP_FPS))\n",
        "  path = directory + output_folder\n",
        "\n",
        "  if subdirectory:\n",
        "    os.mkdir(directory + output_folder + f_name + '/')\n",
        "    path = directory + output_folder + f_name + '/'\n",
        "\n",
        "  # loop through frames\n",
        "  for i in range(length):\n",
        "\n",
        "    vid_cap.set(cv2.CAP_PROP_POS_MSEC, i * 1000)\n",
        "    frame_exists, frame = vid_cap.read()\n",
        "\n",
        "    # save in drive\n",
        "    frame_name = f_name + '_' + str(i) + '.jpg'\n",
        "    cv2.imwrite(path + frame_name, frame)\n",
        "\n",
        "    frame_data = [f_name, frame_name, width, height, i]\n",
        "    frames_data_array.append(frame_data)\n",
        "    \n",
        "  # create df\n",
        "  col_names = ['file_name','frame_name', 'width', 'height', 'seconds']\n",
        "  df_frames = pd.DataFrame(data=frames_data_array, columns=col_names)\n",
        "\n",
        "  return df_frames"
      ],
      "metadata": {
        "id": "Qxa99qUYWgrY"
      },
      "execution_count": null,
      "outputs": []
    },
    {
      "cell_type": "code",
      "source": [
        "# export frames to subdirectory\n",
        "in_directory_path = 'drive/MyDrive/CCTV/CCTV_2014_10_Downstream/'\n",
        "out_directory_path = 'drive/MyDrive/CCTV_Frames_2014_Downstream/'\n",
        "f_name = cctv_filenames[0]\n",
        "sub_dir = cctv_filenames[0].replace('.wmv','/')\n",
        "\n",
        "if not os.path.exists(out_directory_path + sub_dir):\n",
        "  os.mkdir(out_directory_path + sub_dir)\n",
        "\n",
        "vid_raw = cv2.VideoCapture(in_directory_path + f_name)\n",
        "\n",
        "df_test = video_to_frames(vid_raw, out_directory_path, sub_dir, f_name)\n"
      ],
      "metadata": {
        "colab": {
          "base_uri": "https://localhost:8080/"
        },
        "id": "ye2crFKaMOm6",
        "outputId": "09821d44-d6a1-4b51-a344-0af31b7fdd4a"
      },
      "execution_count": null,
      "outputs": [
        {
          "output_type": "stream",
          "name": "stdout",
          "text": [
            "drive/MyDrive/CCTV_Frames_2014_Downstream/1_DE_107_346/\n",
            "True\n",
            "1155\n"
          ]
        }
      ]
    },
    {
      "cell_type": "code",
      "source": [
        "# save frames of every video in its own unique subdirectory\n",
        "# create a pickle file w/ info of each frame and save in df pickle directory\n",
        "in_directory_path = 'drive/MyDrive/CCTV/CCTV_2014_10_Downstream/'\n",
        "out_directory_path = 'drive/MyDrive/CCTV_Frames_2014_Downstream/'\n",
        "pickle_directory_path = 'drive/MyDrive/CCTV_df_pickle/'\n",
        "\n",
        "for f_name in cctv_filenames:\n",
        "  # create sub directory name\n",
        "  sub_dir = f_name.replace('.wmv','/')\n",
        "  # create sub directory\n",
        "  if not os.path.exists(out_directory_path + sub_dir):\n",
        "    os.mkdir(out_directory_path + sub_dir)\n",
        "  # read video\n",
        "  vid_raw = cv2.VideoCapture(in_directory_path + f_name)\n",
        "  # get frames and get df to pickle\n",
        "  df_frames = video_to_frames(vid_raw, out_directory_path, sub_dir, f_name)\n",
        "\n",
        "  pickle_fname = f_name.replace('.wmv','.pkl')\n",
        "  df_frames.to_pickle(pickle_directory_path + pickle_fname)"
      ],
      "metadata": {
        "id": "1hoDQVtKVWt0"
      },
      "execution_count": null,
      "outputs": []
    },
    {
      "cell_type": "markdown",
      "source": [
        "### Export photos from folder to dedicated subfolder in google drive"
      ],
      "metadata": {
        "id": "g_bhqOWw9JHh"
      }
    },
    {
      "cell_type": "code",
      "source": [
        "# run a shell command to transfer photos\n",
        "#!find drive/MyDrive/CCTV/CCTV_2014_10_Downstream/. -name '*.jpg' -exec cp '{}' drive/MyDrive/2014_Downstream_Pics \\;"
      ],
      "metadata": {
        "id": "uh8-8TmcFOdy"
      },
      "execution_count": null,
      "outputs": []
    },
    {
      "cell_type": "code",
      "source": [
        "# us os path to get photo names with anomaly\n",
        "cat_list = []\n",
        "pic_path = 'drive/MyDrive/CCTV_Pics'\n",
        "for file in os.listdir(pic_path):\n",
        "  if file.endswith(\".jpg\"):\n",
        "    cat_list.append(file)"
      ],
      "metadata": {
        "id": "QMdUjbPS9Vtj"
      },
      "execution_count": null,
      "outputs": []
    },
    {
      "cell_type": "code",
      "source": [
        "for i in cat_list:\n",
        "  print(re.sub(r'[0','',i))"
      ],
      "metadata": {
        "id": "xHSOleKHBIRY"
      },
      "execution_count": null,
      "outputs": []
    },
    {
      "cell_type": "markdown",
      "source": [
        "### Next Step is to Annotate Photos and Frames for Training and Validation"
      ],
      "metadata": {
        "id": "_P0weTszOuez"
      }
    },
    {
      "cell_type": "markdown",
      "source": [
        "* OpenLabeling Annotation tool [git](https://github.com/Cartucho/OpenLabeling)"
      ],
      "metadata": {
        "id": "h1C69qX8i--G"
      }
    },
    {
      "cell_type": "markdown",
      "source": [
        "### Check instances of each class category \n",
        "\n",
        "\n",
        "---\n",
        "0 - root\n",
        "1 - crack\n",
        "2 - grease\n"
      ],
      "metadata": {
        "id": "YLhiSxh3TLMa"
      }
    },
    {
      "cell_type": "code",
      "source": [
        "# os.chdir(os.path.dirname(os.getcwd()))\n",
        "\n",
        "label_list = glob.glob('drive/MyDrive/cctv_train_25MAY2022_labels/YOLO_darknet/*')\n",
        "\n",
        "label_count_dict = { '0': 0, '1': 0, '2': 0 }\n",
        "\n",
        "for label in label_list:\n",
        "  with open(label) as f_reader:\n",
        "    annotations = f_reader.readlines()\n",
        "  for line in annotations:\n",
        "    if line:\n",
        "      label_count_dict[line[0]] += 1\n",
        "\n",
        "label_count_dict"
      ],
      "metadata": {
        "colab": {
          "base_uri": "https://localhost:8080/"
        },
        "id": "WFzXegQDTXaG",
        "outputId": "527c7ae8-21f0-407b-d66f-a3875d3acd8b"
      },
      "execution_count": null,
      "outputs": [
        {
          "output_type": "execute_result",
          "data": {
            "text/plain": [
              "{'0': 329, '1': 161, '2': 216}"
            ]
          },
          "metadata": {},
          "execution_count": 4
        }
      ]
    },
    {
      "cell_type": "markdown",
      "source": [
        "### Sample Other Datasets for Cracks"
      ],
      "metadata": {
        "id": "wC_hb2hnppXA"
      }
    },
    {
      "cell_type": "code",
      "source": [
        "# !ls drive/MyDrive/Cracked/\n",
        "crack_f_list = glob.glob('drive/MyDrive/Cracked/*')\n",
        "sample_list = sample(crack_f_list, 100)\n",
        "output_folder = 'drive/MyDrive/cracked_processed/'\n",
        "\n",
        "img = cv2.imread(sample_list[14])\n",
        "test = np.zeros((480,640,3))\n",
        "test[112:368,192:448,:]=img\n",
        "\n",
        "print(sample_list[0])\n",
        "for f_name in sample_list:\n",
        "  img = cv2.imread(f_name)\n",
        "  canvas = np.zeros((480,640,3))\n",
        "  canvas[112:368,192:448,:] = img\n",
        "  cv2.imwrite(output_folder + f_name.split('/')[3].split('.')[0] + '.jpg', canvas)\n",
        "\n"
      ],
      "metadata": {
        "colab": {
          "base_uri": "https://localhost:8080/"
        },
        "id": "vpGfLuRHphgj",
        "outputId": "453d0472-f4a1-43eb-e8ba-a87a113ab68b"
      },
      "execution_count": null,
      "outputs": [
        {
          "output_type": "stream",
          "name": "stdout",
          "text": [
            "drive/MyDrive/Cracked/7041-31.jpg\n"
          ]
        }
      ]
    },
    {
      "cell_type": "markdown",
      "source": [
        "# Preprocessing for Anomaly Detection Dataset (Unsupervised)"
      ],
      "metadata": {
        "id": "8iK80AQMRH7O"
      }
    },
    {
      "cell_type": "markdown",
      "source": [
        "Another possible method for anomaly detection in flood control structures are Convolutional Autoencoders. This unsupervised learning method will save time by minimizing data labeling in videos. The CCTV_2014_12_Tran_Allcity data set contains a report of the anomaly/repair requiremnet score for each video footage. We can train our model using footage of flood control that do not require maintenance"
      ],
      "metadata": {
        "id": "0DisZPFPRzYp"
      }
    },
    {
      "cell_type": "code",
      "source": [
        "# export excel sheet with CCTV Pipe DAta\n",
        "report_file_path = 'drive/MyDrive/CCTV/CCTV_2014_12_Tran_AllCity/report/CCTV_PipeData.xlsx'\n",
        "\n",
        "df_report = pd.read_excel(report_file_path)"
      ],
      "metadata": {
        "id": "ZYFINYmBSxLM"
      },
      "execution_count": null,
      "outputs": []
    },
    {
      "cell_type": "code",
      "source": [
        "df_report.dtypes"
      ],
      "metadata": {
        "colab": {
          "base_uri": "https://localhost:8080/"
        },
        "id": "IQ13PgvOUVwi",
        "outputId": "ca42dd61-32b3-4d20-a557-b2b06b4d9e6c"
      },
      "execution_count": null,
      "outputs": [
        {
          "output_type": "execute_result",
          "data": {
            "text/plain": [
              "PIPE ID                                int64\n",
              "US MH ID                              object\n",
              "US MH ELEVATION                        int64\n",
              "US IE                                float64\n",
              "DS MH ID                              object\n",
              "DS MH ELEVATION                        int64\n",
              "DS IE                                float64\n",
              "INSPECT FT                             int64\n",
              "MAP LENGTH                             int64\n",
              "SIZE                                  object\n",
              "MATERIAL                              object\n",
              "DIRECTION                             object\n",
              "OPERATOR                              object\n",
              "START FT                               int64\n",
              "END FT                                 int64\n",
              "INSPECT DATE                          object\n",
              "INSPECT TIME                          object\n",
              "QC DATE                       datetime64[ns]\n",
              "STREET                                object\n",
              "CROSS ST                              object\n",
              "FIELD PAGE                            object\n",
              "ZIP CODE                               int64\n",
              "JOINT SPACE                            int64\n",
              "VIDEO NAME                            object\n",
              "COMMENT                               object\n",
              "PRIORITIZATION CODE                    int64\n",
              "RECOMMENDATION CODE                   object\n",
              "MAINTENANCE LENGTH                     int64\n",
              "REPAIR/REPLACEMENT LENGTH              int64\n",
              "REHABILITATION LENGTH                  int64\n",
              "TOTAL POINTS (MAINTENANCE)             int64\n",
              "TOTAL POINTS (STRUCTURAL)              int64\n",
              "dtype: object"
            ]
          },
          "metadata": {},
          "execution_count": 5
        }
      ]
    },
    {
      "cell_type": "code",
      "source": [
        "df_report.head()"
      ],
      "metadata": {
        "colab": {
          "base_uri": "https://localhost:8080/",
          "height": 508
        },
        "id": "HZ73aPOMTGTn",
        "outputId": "d09a6ba6-3731-4ac4-e0ad-49bb2fd38a5a"
      },
      "execution_count": null,
      "outputs": [
        {
          "output_type": "execute_result",
          "data": {
            "text/plain": [
              "   PIPE ID US MH ID   US MH ELEVATION   US IE DS MH ID  DS MH ELEVATION  \\\n",
              "0       15    MH-167                0   6.080    MH-22                0   \n",
              "1       49     MH-28                0   7.554    WW-1A                0   \n",
              "2       50     MH-29                0  10.285    MH-28                0   \n",
              "3       51     MH-30                0  12.996    MH-29                0   \n",
              "4       52     MH-31                0  15.238    MH-30                0   \n",
              "\n",
              "    DS IE  INSPECT FT  MAP LENGTH   SIZE  ... JOINT SPACE         VIDEO NAME  \\\n",
              "0   5.490         228         116  10 in  ...           3  15_MH-22_20141117   \n",
              "1   4.840         347         341   8 in  ...           3  49_MH-28_20141106   \n",
              "2   7.584         314         312   8 in  ...           3  50_MH-29_20141106   \n",
              "3  10.315         333         332   6 in  ...           3  51_MH-29_20141106   \n",
              "4  13.026         335         333   6 in  ...           3  52_MH-31_20141031   \n",
              "\n",
              "                                             COMMENT  PRIORITIZATION CODE  \\\n",
              "0  FACILITY DATABASE SHOWS PIPE LENGTH IS 116 FT,...                    3   \n",
              "1                                                  0                    2   \n",
              "2                                                  0                    1   \n",
              "3                                                  0                    1   \n",
              "4                                                  0                    3   \n",
              "\n",
              "   RECOMMENDATION CODE MAINTENANCE LENGTH REPAIR/REPLACEMENT LENGTH  \\\n",
              "0                B & D                218                        10   \n",
              "1             B, C & D                337                        10   \n",
              "2                B & C                314                         0   \n",
              "3                B & C                333                         0   \n",
              "4                B & D                315                        20   \n",
              "\n",
              "  REHABILITATION LENGTH TOTAL POINTS (MAINTENANCE) TOTAL POINTS (STRUCTURAL)  \n",
              "0                     0                         75                       250  \n",
              "1                     0                        740                      1050  \n",
              "2                     0                        175                       875  \n",
              "3                     0                        125                       675  \n",
              "4                     0                        600                      1125  \n",
              "\n",
              "[5 rows x 32 columns]"
            ],
            "text/html": [
              "\n",
              "  <div id=\"df-e87e2479-dada-4785-a445-411c704159ed\">\n",
              "    <div class=\"colab-df-container\">\n",
              "      <div>\n",
              "<style scoped>\n",
              "    .dataframe tbody tr th:only-of-type {\n",
              "        vertical-align: middle;\n",
              "    }\n",
              "\n",
              "    .dataframe tbody tr th {\n",
              "        vertical-align: top;\n",
              "    }\n",
              "\n",
              "    .dataframe thead th {\n",
              "        text-align: right;\n",
              "    }\n",
              "</style>\n",
              "<table border=\"1\" class=\"dataframe\">\n",
              "  <thead>\n",
              "    <tr style=\"text-align: right;\">\n",
              "      <th></th>\n",
              "      <th>PIPE ID</th>\n",
              "      <th>US MH ID</th>\n",
              "      <th>US MH ELEVATION</th>\n",
              "      <th>US IE</th>\n",
              "      <th>DS MH ID</th>\n",
              "      <th>DS MH ELEVATION</th>\n",
              "      <th>DS IE</th>\n",
              "      <th>INSPECT FT</th>\n",
              "      <th>MAP LENGTH</th>\n",
              "      <th>SIZE</th>\n",
              "      <th>...</th>\n",
              "      <th>JOINT SPACE</th>\n",
              "      <th>VIDEO NAME</th>\n",
              "      <th>COMMENT</th>\n",
              "      <th>PRIORITIZATION CODE</th>\n",
              "      <th>RECOMMENDATION CODE</th>\n",
              "      <th>MAINTENANCE LENGTH</th>\n",
              "      <th>REPAIR/REPLACEMENT LENGTH</th>\n",
              "      <th>REHABILITATION LENGTH</th>\n",
              "      <th>TOTAL POINTS (MAINTENANCE)</th>\n",
              "      <th>TOTAL POINTS (STRUCTURAL)</th>\n",
              "    </tr>\n",
              "  </thead>\n",
              "  <tbody>\n",
              "    <tr>\n",
              "      <th>0</th>\n",
              "      <td>15</td>\n",
              "      <td>MH-167</td>\n",
              "      <td>0</td>\n",
              "      <td>6.080</td>\n",
              "      <td>MH-22</td>\n",
              "      <td>0</td>\n",
              "      <td>5.490</td>\n",
              "      <td>228</td>\n",
              "      <td>116</td>\n",
              "      <td>10 in</td>\n",
              "      <td>...</td>\n",
              "      <td>3</td>\n",
              "      <td>15_MH-22_20141117</td>\n",
              "      <td>FACILITY DATABASE SHOWS PIPE LENGTH IS 116 FT,...</td>\n",
              "      <td>3</td>\n",
              "      <td>B &amp; D</td>\n",
              "      <td>218</td>\n",
              "      <td>10</td>\n",
              "      <td>0</td>\n",
              "      <td>75</td>\n",
              "      <td>250</td>\n",
              "    </tr>\n",
              "    <tr>\n",
              "      <th>1</th>\n",
              "      <td>49</td>\n",
              "      <td>MH-28</td>\n",
              "      <td>0</td>\n",
              "      <td>7.554</td>\n",
              "      <td>WW-1A</td>\n",
              "      <td>0</td>\n",
              "      <td>4.840</td>\n",
              "      <td>347</td>\n",
              "      <td>341</td>\n",
              "      <td>8 in</td>\n",
              "      <td>...</td>\n",
              "      <td>3</td>\n",
              "      <td>49_MH-28_20141106</td>\n",
              "      <td>0</td>\n",
              "      <td>2</td>\n",
              "      <td>B, C &amp; D</td>\n",
              "      <td>337</td>\n",
              "      <td>10</td>\n",
              "      <td>0</td>\n",
              "      <td>740</td>\n",
              "      <td>1050</td>\n",
              "    </tr>\n",
              "    <tr>\n",
              "      <th>2</th>\n",
              "      <td>50</td>\n",
              "      <td>MH-29</td>\n",
              "      <td>0</td>\n",
              "      <td>10.285</td>\n",
              "      <td>MH-28</td>\n",
              "      <td>0</td>\n",
              "      <td>7.584</td>\n",
              "      <td>314</td>\n",
              "      <td>312</td>\n",
              "      <td>8 in</td>\n",
              "      <td>...</td>\n",
              "      <td>3</td>\n",
              "      <td>50_MH-29_20141106</td>\n",
              "      <td>0</td>\n",
              "      <td>1</td>\n",
              "      <td>B &amp; C</td>\n",
              "      <td>314</td>\n",
              "      <td>0</td>\n",
              "      <td>0</td>\n",
              "      <td>175</td>\n",
              "      <td>875</td>\n",
              "    </tr>\n",
              "    <tr>\n",
              "      <th>3</th>\n",
              "      <td>51</td>\n",
              "      <td>MH-30</td>\n",
              "      <td>0</td>\n",
              "      <td>12.996</td>\n",
              "      <td>MH-29</td>\n",
              "      <td>0</td>\n",
              "      <td>10.315</td>\n",
              "      <td>333</td>\n",
              "      <td>332</td>\n",
              "      <td>6 in</td>\n",
              "      <td>...</td>\n",
              "      <td>3</td>\n",
              "      <td>51_MH-29_20141106</td>\n",
              "      <td>0</td>\n",
              "      <td>1</td>\n",
              "      <td>B &amp; C</td>\n",
              "      <td>333</td>\n",
              "      <td>0</td>\n",
              "      <td>0</td>\n",
              "      <td>125</td>\n",
              "      <td>675</td>\n",
              "    </tr>\n",
              "    <tr>\n",
              "      <th>4</th>\n",
              "      <td>52</td>\n",
              "      <td>MH-31</td>\n",
              "      <td>0</td>\n",
              "      <td>15.238</td>\n",
              "      <td>MH-30</td>\n",
              "      <td>0</td>\n",
              "      <td>13.026</td>\n",
              "      <td>335</td>\n",
              "      <td>333</td>\n",
              "      <td>6 in</td>\n",
              "      <td>...</td>\n",
              "      <td>3</td>\n",
              "      <td>52_MH-31_20141031</td>\n",
              "      <td>0</td>\n",
              "      <td>3</td>\n",
              "      <td>B &amp; D</td>\n",
              "      <td>315</td>\n",
              "      <td>20</td>\n",
              "      <td>0</td>\n",
              "      <td>600</td>\n",
              "      <td>1125</td>\n",
              "    </tr>\n",
              "  </tbody>\n",
              "</table>\n",
              "<p>5 rows × 32 columns</p>\n",
              "</div>\n",
              "      <button class=\"colab-df-convert\" onclick=\"convertToInteractive('df-e87e2479-dada-4785-a445-411c704159ed')\"\n",
              "              title=\"Convert this dataframe to an interactive table.\"\n",
              "              style=\"display:none;\">\n",
              "        \n",
              "  <svg xmlns=\"http://www.w3.org/2000/svg\" height=\"24px\"viewBox=\"0 0 24 24\"\n",
              "       width=\"24px\">\n",
              "    <path d=\"M0 0h24v24H0V0z\" fill=\"none\"/>\n",
              "    <path d=\"M18.56 5.44l.94 2.06.94-2.06 2.06-.94-2.06-.94-.94-2.06-.94 2.06-2.06.94zm-11 1L8.5 8.5l.94-2.06 2.06-.94-2.06-.94L8.5 2.5l-.94 2.06-2.06.94zm10 10l.94 2.06.94-2.06 2.06-.94-2.06-.94-.94-2.06-.94 2.06-2.06.94z\"/><path d=\"M17.41 7.96l-1.37-1.37c-.4-.4-.92-.59-1.43-.59-.52 0-1.04.2-1.43.59L10.3 9.45l-7.72 7.72c-.78.78-.78 2.05 0 2.83L4 21.41c.39.39.9.59 1.41.59.51 0 1.02-.2 1.41-.59l7.78-7.78 2.81-2.81c.8-.78.8-2.07 0-2.86zM5.41 20L4 18.59l7.72-7.72 1.47 1.35L5.41 20z\"/>\n",
              "  </svg>\n",
              "      </button>\n",
              "      \n",
              "  <style>\n",
              "    .colab-df-container {\n",
              "      display:flex;\n",
              "      flex-wrap:wrap;\n",
              "      gap: 12px;\n",
              "    }\n",
              "\n",
              "    .colab-df-convert {\n",
              "      background-color: #E8F0FE;\n",
              "      border: none;\n",
              "      border-radius: 50%;\n",
              "      cursor: pointer;\n",
              "      display: none;\n",
              "      fill: #1967D2;\n",
              "      height: 32px;\n",
              "      padding: 0 0 0 0;\n",
              "      width: 32px;\n",
              "    }\n",
              "\n",
              "    .colab-df-convert:hover {\n",
              "      background-color: #E2EBFA;\n",
              "      box-shadow: 0px 1px 2px rgba(60, 64, 67, 0.3), 0px 1px 3px 1px rgba(60, 64, 67, 0.15);\n",
              "      fill: #174EA6;\n",
              "    }\n",
              "\n",
              "    [theme=dark] .colab-df-convert {\n",
              "      background-color: #3B4455;\n",
              "      fill: #D2E3FC;\n",
              "    }\n",
              "\n",
              "    [theme=dark] .colab-df-convert:hover {\n",
              "      background-color: #434B5C;\n",
              "      box-shadow: 0px 1px 3px 1px rgba(0, 0, 0, 0.15);\n",
              "      filter: drop-shadow(0px 1px 2px rgba(0, 0, 0, 0.3));\n",
              "      fill: #FFFFFF;\n",
              "    }\n",
              "  </style>\n",
              "\n",
              "      <script>\n",
              "        const buttonEl =\n",
              "          document.querySelector('#df-e87e2479-dada-4785-a445-411c704159ed button.colab-df-convert');\n",
              "        buttonEl.style.display =\n",
              "          google.colab.kernel.accessAllowed ? 'block' : 'none';\n",
              "\n",
              "        async function convertToInteractive(key) {\n",
              "          const element = document.querySelector('#df-e87e2479-dada-4785-a445-411c704159ed');\n",
              "          const dataTable =\n",
              "            await google.colab.kernel.invokeFunction('convertToInteractive',\n",
              "                                                     [key], {});\n",
              "          if (!dataTable) return;\n",
              "\n",
              "          const docLinkHtml = 'Like what you see? Visit the ' +\n",
              "            '<a target=\"_blank\" href=https://colab.research.google.com/notebooks/data_table.ipynb>data table notebook</a>'\n",
              "            + ' to learn more about interactive tables.';\n",
              "          element.innerHTML = '';\n",
              "          dataTable['output_type'] = 'display_data';\n",
              "          await google.colab.output.renderOutput(dataTable, element);\n",
              "          const docLink = document.createElement('div');\n",
              "          docLink.innerHTML = docLinkHtml;\n",
              "          element.appendChild(docLink);\n",
              "        }\n",
              "      </script>\n",
              "    </div>\n",
              "  </div>\n",
              "  "
            ]
          },
          "metadata": {},
          "execution_count": 4
        }
      ]
    },
    {
      "cell_type": "code",
      "source": [
        "df_report.loc[(df_report['MATERIAL']=='VCP') & (df_report['TOTAL POINTS (MAINTENANCE)']==0) & (df_report['TOTAL POINTS (STRUCTURAL)']==0) & (df_report['VIDEO NAME'] != 0),:]"
      ],
      "metadata": {
        "colab": {
          "base_uri": "https://localhost:8080/",
          "height": 811
        },
        "id": "0K_0x2ZxpkY3",
        "outputId": "f6c90d96-0ea0-48d3-e070-26eacb6b65d6"
      },
      "execution_count": null,
      "outputs": [
        {
          "output_type": "execute_result",
          "data": {
            "text/plain": [
              "     PIPE ID US MH ID   US MH ELEVATION   US IE DS MH ID  DS MH ELEVATION  \\\n",
              "96       230    MH-167                0   6.080   MH-168                0   \n",
              "103      240    MH-175                0   2.490     WW-3                0   \n",
              "104      275    MH-735                0  -2.531     WW-5                0   \n",
              "163      386     DE-80                0  10.040   MH-258                0   \n",
              "200      431     DE-87                0  18.280   MH-285                0   \n",
              "209      449    MH-681                0  15.365   MH-241                0   \n",
              "240      627    MH-679                0  14.024   MH-680                0   \n",
              "496      606    MH-427                0   4.870   MH-426                0   \n",
              "524      671    MH-585                0  14.780   MH-584                0   \n",
              "557      705    MH-554                0  18.888   MH-636                0   \n",
              "562      712    MH-547                0  16.239   MH-546                0   \n",
              "590      753    MH-481                0  14.754   MH-480                0   \n",
              "591      754    MH-479                0  15.011   MH-481                0   \n",
              "\n",
              "      DS IE  INSPECT FT  MAP LENGTH   SIZE  ... JOINT SPACE  \\\n",
              "96    6.059           6          12  10 in  ...           3   \n",
              "103   2.300           4          16  10 in  ...           3   \n",
              "104  -4.960           3          25  10 in  ...           3   \n",
              "163   9.467         138         134   8 in  ...           3   \n",
              "200  17.768          86          90   8 in  ...           3   \n",
              "209  12.136         379         375  15 in  ...           5   \n",
              "240  12.440          11          12   8 in  ...           5   \n",
              "496   4.628          19          19   8 in  ...           3   \n",
              "524  13.823         355         350   8 in  ...           3   \n",
              "557  16.260          46          47   8 in  ...           3   \n",
              "562  16.230          47          49   8 in  ...           4   \n",
              "590  13.895         274         266   8 in  ...           3   \n",
              "591  14.784         152         150   8 in  ...           3   \n",
              "\n",
              "              VIDEO NAME COMMENT  PRIORITIZATION CODE  RECOMMENDATION CODE  \\\n",
              "96   230_MH-167_20141117       0                    1                    A   \n",
              "103  240_MH-175_20141117       0                    1                    A   \n",
              "104  275_MH-735_20141117       0                    1                    A   \n",
              "163  386_MH-258_20141119       0                    3                    D   \n",
              "200  431_MH-285_20141107       0                    1                    A   \n",
              "209  449_MH-681_20141105       0                    1                    A   \n",
              "240  627_MH-679_20141106       0                    1                    A   \n",
              "496  606_MH-426_20141218       0                    1                    A   \n",
              "524  671_MH-584_20141112       0                    1                    A   \n",
              "557  705_MH-636_20141124       0                    1                    A   \n",
              "562  712_MH-546_20141202       0                    1                    A   \n",
              "590  753_MH-481_20141201       0                    1                    A   \n",
              "591  754_MH-479_20141217       0                    1                    A   \n",
              "\n",
              "    MAINTENANCE LENGTH REPAIR/REPLACEMENT LENGTH REHABILITATION LENGTH  \\\n",
              "96                   0                         0                     0   \n",
              "103                  0                         0                     0   \n",
              "104                  0                         0                     0   \n",
              "163                  0                        10                     0   \n",
              "200                  0                         0                     0   \n",
              "209                  0                         0                     0   \n",
              "240                  0                         0                     0   \n",
              "496                  0                         0                     0   \n",
              "524                  0                         0                     0   \n",
              "557                  0                         0                     0   \n",
              "562                  0                         0                     0   \n",
              "590                  0                         0                     0   \n",
              "591                  0                         0                     0   \n",
              "\n",
              "    TOTAL POINTS (MAINTENANCE) TOTAL POINTS (STRUCTURAL)  \n",
              "96                           0                         0  \n",
              "103                          0                         0  \n",
              "104                          0                         0  \n",
              "163                          0                         0  \n",
              "200                          0                         0  \n",
              "209                          0                         0  \n",
              "240                          0                         0  \n",
              "496                          0                         0  \n",
              "524                          0                         0  \n",
              "557                          0                         0  \n",
              "562                          0                         0  \n",
              "590                          0                         0  \n",
              "591                          0                         0  \n",
              "\n",
              "[13 rows x 32 columns]"
            ],
            "text/html": [
              "\n",
              "  <div id=\"df-43b7e420-aa0c-4333-8371-31fd7e2f9185\">\n",
              "    <div class=\"colab-df-container\">\n",
              "      <div>\n",
              "<style scoped>\n",
              "    .dataframe tbody tr th:only-of-type {\n",
              "        vertical-align: middle;\n",
              "    }\n",
              "\n",
              "    .dataframe tbody tr th {\n",
              "        vertical-align: top;\n",
              "    }\n",
              "\n",
              "    .dataframe thead th {\n",
              "        text-align: right;\n",
              "    }\n",
              "</style>\n",
              "<table border=\"1\" class=\"dataframe\">\n",
              "  <thead>\n",
              "    <tr style=\"text-align: right;\">\n",
              "      <th></th>\n",
              "      <th>PIPE ID</th>\n",
              "      <th>US MH ID</th>\n",
              "      <th>US MH ELEVATION</th>\n",
              "      <th>US IE</th>\n",
              "      <th>DS MH ID</th>\n",
              "      <th>DS MH ELEVATION</th>\n",
              "      <th>DS IE</th>\n",
              "      <th>INSPECT FT</th>\n",
              "      <th>MAP LENGTH</th>\n",
              "      <th>SIZE</th>\n",
              "      <th>...</th>\n",
              "      <th>JOINT SPACE</th>\n",
              "      <th>VIDEO NAME</th>\n",
              "      <th>COMMENT</th>\n",
              "      <th>PRIORITIZATION CODE</th>\n",
              "      <th>RECOMMENDATION CODE</th>\n",
              "      <th>MAINTENANCE LENGTH</th>\n",
              "      <th>REPAIR/REPLACEMENT LENGTH</th>\n",
              "      <th>REHABILITATION LENGTH</th>\n",
              "      <th>TOTAL POINTS (MAINTENANCE)</th>\n",
              "      <th>TOTAL POINTS (STRUCTURAL)</th>\n",
              "    </tr>\n",
              "  </thead>\n",
              "  <tbody>\n",
              "    <tr>\n",
              "      <th>96</th>\n",
              "      <td>230</td>\n",
              "      <td>MH-167</td>\n",
              "      <td>0</td>\n",
              "      <td>6.080</td>\n",
              "      <td>MH-168</td>\n",
              "      <td>0</td>\n",
              "      <td>6.059</td>\n",
              "      <td>6</td>\n",
              "      <td>12</td>\n",
              "      <td>10 in</td>\n",
              "      <td>...</td>\n",
              "      <td>3</td>\n",
              "      <td>230_MH-167_20141117</td>\n",
              "      <td>0</td>\n",
              "      <td>1</td>\n",
              "      <td>A</td>\n",
              "      <td>0</td>\n",
              "      <td>0</td>\n",
              "      <td>0</td>\n",
              "      <td>0</td>\n",
              "      <td>0</td>\n",
              "    </tr>\n",
              "    <tr>\n",
              "      <th>103</th>\n",
              "      <td>240</td>\n",
              "      <td>MH-175</td>\n",
              "      <td>0</td>\n",
              "      <td>2.490</td>\n",
              "      <td>WW-3</td>\n",
              "      <td>0</td>\n",
              "      <td>2.300</td>\n",
              "      <td>4</td>\n",
              "      <td>16</td>\n",
              "      <td>10 in</td>\n",
              "      <td>...</td>\n",
              "      <td>3</td>\n",
              "      <td>240_MH-175_20141117</td>\n",
              "      <td>0</td>\n",
              "      <td>1</td>\n",
              "      <td>A</td>\n",
              "      <td>0</td>\n",
              "      <td>0</td>\n",
              "      <td>0</td>\n",
              "      <td>0</td>\n",
              "      <td>0</td>\n",
              "    </tr>\n",
              "    <tr>\n",
              "      <th>104</th>\n",
              "      <td>275</td>\n",
              "      <td>MH-735</td>\n",
              "      <td>0</td>\n",
              "      <td>-2.531</td>\n",
              "      <td>WW-5</td>\n",
              "      <td>0</td>\n",
              "      <td>-4.960</td>\n",
              "      <td>3</td>\n",
              "      <td>25</td>\n",
              "      <td>10 in</td>\n",
              "      <td>...</td>\n",
              "      <td>3</td>\n",
              "      <td>275_MH-735_20141117</td>\n",
              "      <td>0</td>\n",
              "      <td>1</td>\n",
              "      <td>A</td>\n",
              "      <td>0</td>\n",
              "      <td>0</td>\n",
              "      <td>0</td>\n",
              "      <td>0</td>\n",
              "      <td>0</td>\n",
              "    </tr>\n",
              "    <tr>\n",
              "      <th>163</th>\n",
              "      <td>386</td>\n",
              "      <td>DE-80</td>\n",
              "      <td>0</td>\n",
              "      <td>10.040</td>\n",
              "      <td>MH-258</td>\n",
              "      <td>0</td>\n",
              "      <td>9.467</td>\n",
              "      <td>138</td>\n",
              "      <td>134</td>\n",
              "      <td>8 in</td>\n",
              "      <td>...</td>\n",
              "      <td>3</td>\n",
              "      <td>386_MH-258_20141119</td>\n",
              "      <td>0</td>\n",
              "      <td>3</td>\n",
              "      <td>D</td>\n",
              "      <td>0</td>\n",
              "      <td>10</td>\n",
              "      <td>0</td>\n",
              "      <td>0</td>\n",
              "      <td>0</td>\n",
              "    </tr>\n",
              "    <tr>\n",
              "      <th>200</th>\n",
              "      <td>431</td>\n",
              "      <td>DE-87</td>\n",
              "      <td>0</td>\n",
              "      <td>18.280</td>\n",
              "      <td>MH-285</td>\n",
              "      <td>0</td>\n",
              "      <td>17.768</td>\n",
              "      <td>86</td>\n",
              "      <td>90</td>\n",
              "      <td>8 in</td>\n",
              "      <td>...</td>\n",
              "      <td>3</td>\n",
              "      <td>431_MH-285_20141107</td>\n",
              "      <td>0</td>\n",
              "      <td>1</td>\n",
              "      <td>A</td>\n",
              "      <td>0</td>\n",
              "      <td>0</td>\n",
              "      <td>0</td>\n",
              "      <td>0</td>\n",
              "      <td>0</td>\n",
              "    </tr>\n",
              "    <tr>\n",
              "      <th>209</th>\n",
              "      <td>449</td>\n",
              "      <td>MH-681</td>\n",
              "      <td>0</td>\n",
              "      <td>15.365</td>\n",
              "      <td>MH-241</td>\n",
              "      <td>0</td>\n",
              "      <td>12.136</td>\n",
              "      <td>379</td>\n",
              "      <td>375</td>\n",
              "      <td>15 in</td>\n",
              "      <td>...</td>\n",
              "      <td>5</td>\n",
              "      <td>449_MH-681_20141105</td>\n",
              "      <td>0</td>\n",
              "      <td>1</td>\n",
              "      <td>A</td>\n",
              "      <td>0</td>\n",
              "      <td>0</td>\n",
              "      <td>0</td>\n",
              "      <td>0</td>\n",
              "      <td>0</td>\n",
              "    </tr>\n",
              "    <tr>\n",
              "      <th>240</th>\n",
              "      <td>627</td>\n",
              "      <td>MH-679</td>\n",
              "      <td>0</td>\n",
              "      <td>14.024</td>\n",
              "      <td>MH-680</td>\n",
              "      <td>0</td>\n",
              "      <td>12.440</td>\n",
              "      <td>11</td>\n",
              "      <td>12</td>\n",
              "      <td>8 in</td>\n",
              "      <td>...</td>\n",
              "      <td>5</td>\n",
              "      <td>627_MH-679_20141106</td>\n",
              "      <td>0</td>\n",
              "      <td>1</td>\n",
              "      <td>A</td>\n",
              "      <td>0</td>\n",
              "      <td>0</td>\n",
              "      <td>0</td>\n",
              "      <td>0</td>\n",
              "      <td>0</td>\n",
              "    </tr>\n",
              "    <tr>\n",
              "      <th>496</th>\n",
              "      <td>606</td>\n",
              "      <td>MH-427</td>\n",
              "      <td>0</td>\n",
              "      <td>4.870</td>\n",
              "      <td>MH-426</td>\n",
              "      <td>0</td>\n",
              "      <td>4.628</td>\n",
              "      <td>19</td>\n",
              "      <td>19</td>\n",
              "      <td>8 in</td>\n",
              "      <td>...</td>\n",
              "      <td>3</td>\n",
              "      <td>606_MH-426_20141218</td>\n",
              "      <td>0</td>\n",
              "      <td>1</td>\n",
              "      <td>A</td>\n",
              "      <td>0</td>\n",
              "      <td>0</td>\n",
              "      <td>0</td>\n",
              "      <td>0</td>\n",
              "      <td>0</td>\n",
              "    </tr>\n",
              "    <tr>\n",
              "      <th>524</th>\n",
              "      <td>671</td>\n",
              "      <td>MH-585</td>\n",
              "      <td>0</td>\n",
              "      <td>14.780</td>\n",
              "      <td>MH-584</td>\n",
              "      <td>0</td>\n",
              "      <td>13.823</td>\n",
              "      <td>355</td>\n",
              "      <td>350</td>\n",
              "      <td>8 in</td>\n",
              "      <td>...</td>\n",
              "      <td>3</td>\n",
              "      <td>671_MH-584_20141112</td>\n",
              "      <td>0</td>\n",
              "      <td>1</td>\n",
              "      <td>A</td>\n",
              "      <td>0</td>\n",
              "      <td>0</td>\n",
              "      <td>0</td>\n",
              "      <td>0</td>\n",
              "      <td>0</td>\n",
              "    </tr>\n",
              "    <tr>\n",
              "      <th>557</th>\n",
              "      <td>705</td>\n",
              "      <td>MH-554</td>\n",
              "      <td>0</td>\n",
              "      <td>18.888</td>\n",
              "      <td>MH-636</td>\n",
              "      <td>0</td>\n",
              "      <td>16.260</td>\n",
              "      <td>46</td>\n",
              "      <td>47</td>\n",
              "      <td>8 in</td>\n",
              "      <td>...</td>\n",
              "      <td>3</td>\n",
              "      <td>705_MH-636_20141124</td>\n",
              "      <td>0</td>\n",
              "      <td>1</td>\n",
              "      <td>A</td>\n",
              "      <td>0</td>\n",
              "      <td>0</td>\n",
              "      <td>0</td>\n",
              "      <td>0</td>\n",
              "      <td>0</td>\n",
              "    </tr>\n",
              "    <tr>\n",
              "      <th>562</th>\n",
              "      <td>712</td>\n",
              "      <td>MH-547</td>\n",
              "      <td>0</td>\n",
              "      <td>16.239</td>\n",
              "      <td>MH-546</td>\n",
              "      <td>0</td>\n",
              "      <td>16.230</td>\n",
              "      <td>47</td>\n",
              "      <td>49</td>\n",
              "      <td>8 in</td>\n",
              "      <td>...</td>\n",
              "      <td>4</td>\n",
              "      <td>712_MH-546_20141202</td>\n",
              "      <td>0</td>\n",
              "      <td>1</td>\n",
              "      <td>A</td>\n",
              "      <td>0</td>\n",
              "      <td>0</td>\n",
              "      <td>0</td>\n",
              "      <td>0</td>\n",
              "      <td>0</td>\n",
              "    </tr>\n",
              "    <tr>\n",
              "      <th>590</th>\n",
              "      <td>753</td>\n",
              "      <td>MH-481</td>\n",
              "      <td>0</td>\n",
              "      <td>14.754</td>\n",
              "      <td>MH-480</td>\n",
              "      <td>0</td>\n",
              "      <td>13.895</td>\n",
              "      <td>274</td>\n",
              "      <td>266</td>\n",
              "      <td>8 in</td>\n",
              "      <td>...</td>\n",
              "      <td>3</td>\n",
              "      <td>753_MH-481_20141201</td>\n",
              "      <td>0</td>\n",
              "      <td>1</td>\n",
              "      <td>A</td>\n",
              "      <td>0</td>\n",
              "      <td>0</td>\n",
              "      <td>0</td>\n",
              "      <td>0</td>\n",
              "      <td>0</td>\n",
              "    </tr>\n",
              "    <tr>\n",
              "      <th>591</th>\n",
              "      <td>754</td>\n",
              "      <td>MH-479</td>\n",
              "      <td>0</td>\n",
              "      <td>15.011</td>\n",
              "      <td>MH-481</td>\n",
              "      <td>0</td>\n",
              "      <td>14.784</td>\n",
              "      <td>152</td>\n",
              "      <td>150</td>\n",
              "      <td>8 in</td>\n",
              "      <td>...</td>\n",
              "      <td>3</td>\n",
              "      <td>754_MH-479_20141217</td>\n",
              "      <td>0</td>\n",
              "      <td>1</td>\n",
              "      <td>A</td>\n",
              "      <td>0</td>\n",
              "      <td>0</td>\n",
              "      <td>0</td>\n",
              "      <td>0</td>\n",
              "      <td>0</td>\n",
              "    </tr>\n",
              "  </tbody>\n",
              "</table>\n",
              "<p>13 rows × 32 columns</p>\n",
              "</div>\n",
              "      <button class=\"colab-df-convert\" onclick=\"convertToInteractive('df-43b7e420-aa0c-4333-8371-31fd7e2f9185')\"\n",
              "              title=\"Convert this dataframe to an interactive table.\"\n",
              "              style=\"display:none;\">\n",
              "        \n",
              "  <svg xmlns=\"http://www.w3.org/2000/svg\" height=\"24px\"viewBox=\"0 0 24 24\"\n",
              "       width=\"24px\">\n",
              "    <path d=\"M0 0h24v24H0V0z\" fill=\"none\"/>\n",
              "    <path d=\"M18.56 5.44l.94 2.06.94-2.06 2.06-.94-2.06-.94-.94-2.06-.94 2.06-2.06.94zm-11 1L8.5 8.5l.94-2.06 2.06-.94-2.06-.94L8.5 2.5l-.94 2.06-2.06.94zm10 10l.94 2.06.94-2.06 2.06-.94-2.06-.94-.94-2.06-.94 2.06-2.06.94z\"/><path d=\"M17.41 7.96l-1.37-1.37c-.4-.4-.92-.59-1.43-.59-.52 0-1.04.2-1.43.59L10.3 9.45l-7.72 7.72c-.78.78-.78 2.05 0 2.83L4 21.41c.39.39.9.59 1.41.59.51 0 1.02-.2 1.41-.59l7.78-7.78 2.81-2.81c.8-.78.8-2.07 0-2.86zM5.41 20L4 18.59l7.72-7.72 1.47 1.35L5.41 20z\"/>\n",
              "  </svg>\n",
              "      </button>\n",
              "      \n",
              "  <style>\n",
              "    .colab-df-container {\n",
              "      display:flex;\n",
              "      flex-wrap:wrap;\n",
              "      gap: 12px;\n",
              "    }\n",
              "\n",
              "    .colab-df-convert {\n",
              "      background-color: #E8F0FE;\n",
              "      border: none;\n",
              "      border-radius: 50%;\n",
              "      cursor: pointer;\n",
              "      display: none;\n",
              "      fill: #1967D2;\n",
              "      height: 32px;\n",
              "      padding: 0 0 0 0;\n",
              "      width: 32px;\n",
              "    }\n",
              "\n",
              "    .colab-df-convert:hover {\n",
              "      background-color: #E2EBFA;\n",
              "      box-shadow: 0px 1px 2px rgba(60, 64, 67, 0.3), 0px 1px 3px 1px rgba(60, 64, 67, 0.15);\n",
              "      fill: #174EA6;\n",
              "    }\n",
              "\n",
              "    [theme=dark] .colab-df-convert {\n",
              "      background-color: #3B4455;\n",
              "      fill: #D2E3FC;\n",
              "    }\n",
              "\n",
              "    [theme=dark] .colab-df-convert:hover {\n",
              "      background-color: #434B5C;\n",
              "      box-shadow: 0px 1px 3px 1px rgba(0, 0, 0, 0.15);\n",
              "      filter: drop-shadow(0px 1px 2px rgba(0, 0, 0, 0.3));\n",
              "      fill: #FFFFFF;\n",
              "    }\n",
              "  </style>\n",
              "\n",
              "      <script>\n",
              "        const buttonEl =\n",
              "          document.querySelector('#df-43b7e420-aa0c-4333-8371-31fd7e2f9185 button.colab-df-convert');\n",
              "        buttonEl.style.display =\n",
              "          google.colab.kernel.accessAllowed ? 'block' : 'none';\n",
              "\n",
              "        async function convertToInteractive(key) {\n",
              "          const element = document.querySelector('#df-43b7e420-aa0c-4333-8371-31fd7e2f9185');\n",
              "          const dataTable =\n",
              "            await google.colab.kernel.invokeFunction('convertToInteractive',\n",
              "                                                     [key], {});\n",
              "          if (!dataTable) return;\n",
              "\n",
              "          const docLinkHtml = 'Like what you see? Visit the ' +\n",
              "            '<a target=\"_blank\" href=https://colab.research.google.com/notebooks/data_table.ipynb>data table notebook</a>'\n",
              "            + ' to learn more about interactive tables.';\n",
              "          element.innerHTML = '';\n",
              "          dataTable['output_type'] = 'display_data';\n",
              "          await google.colab.output.renderOutput(dataTable, element);\n",
              "          const docLink = document.createElement('div');\n",
              "          docLink.innerHTML = docLinkHtml;\n",
              "          element.appendChild(docLink);\n",
              "        }\n",
              "      </script>\n",
              "    </div>\n",
              "  </div>\n",
              "  "
            ]
          },
          "metadata": {},
          "execution_count": 6
        }
      ]
    },
    {
      "cell_type": "code",
      "source": [
        "# get video filenames of pipes with 0 structure and maintenance points and are made of VCP\n",
        "cctv_filenames_ad = df_report.loc[(df_report['MATERIAL']=='VCP') & (df_report['TOTAL POINTS (MAINTENANCE)']==0) & (df_report['TOTAL POINTS (STRUCTURAL)']==0) & (df_report['VIDEO NAME'] != 0),'VIDEO NAME'] + '.MPG'"
      ],
      "metadata": {
        "id": "IvDQeKTRTR9c"
      },
      "execution_count": null,
      "outputs": []
    },
    {
      "cell_type": "code",
      "source": [
        "cctv_filenames_ad"
      ],
      "metadata": {
        "colab": {
          "base_uri": "https://localhost:8080/"
        },
        "id": "nKLYVbvyUeE2",
        "outputId": "d7af2538-fc0d-4d2e-cd58-88ac4e676233"
      },
      "execution_count": null,
      "outputs": [
        {
          "output_type": "execute_result",
          "data": {
            "text/plain": [
              "96     230_MH-167_20141117.MPG\n",
              "103    240_MH-175_20141117.MPG\n",
              "104    275_MH-735_20141117.MPG\n",
              "163    386_MH-258_20141119.MPG\n",
              "200    431_MH-285_20141107.MPG\n",
              "209    449_MH-681_20141105.MPG\n",
              "240    627_MH-679_20141106.MPG\n",
              "496    606_MH-426_20141218.MPG\n",
              "524    671_MH-584_20141112.MPG\n",
              "557    705_MH-636_20141124.MPG\n",
              "562    712_MH-546_20141202.MPG\n",
              "590    753_MH-481_20141201.MPG\n",
              "591    754_MH-479_20141217.MPG\n",
              "Name: VIDEO NAME, dtype: object"
            ]
          },
          "metadata": {},
          "execution_count": 19
        }
      ]
    },
    {
      "cell_type": "code",
      "source": [
        "# # create folder for CCTV Frames\n",
        "# !rm -rf drive/MyDrive/CCTV_Frames_2014_Tran_AllCity\n",
        "# !mkdir drive/MyDrive/CCTV_Frames_2014_Tran_AllCity"
      ],
      "metadata": {
        "id": "81mFjejSCvAK"
      },
      "execution_count": null,
      "outputs": []
    },
    {
      "cell_type": "code",
      "source": [
        "in_directory_path = 'drive/MyDrive/CCTV/CCTV_2014_12_Tran_AllCity/'\n",
        "out_directory_path = 'drive/MyDrive/CCTV_Frames_2014_Tran_AllCity/'\n",
        "sub_dir = 'ad_'\n",
        "\n",
        "for f_name in cctv_filenames_ad[5:]:\n",
        "  # create sub directory name\n",
        "  print(in_directory_path + f_name)\n",
        "\n",
        "  vid_raw = cv2.VideoCapture(in_directory_path + f_name)\n",
        "  video_to_frames(vid_raw, out_directory_path, sub_dir, f_name, subdirectory=True)\n"
      ],
      "metadata": {
        "id": "05GowL_6DT9q"
      },
      "execution_count": null,
      "outputs": []
    },
    {
      "cell_type": "code",
      "source": [
        " !ls -l drive/MyDrive/CCTV_Frames_2014_Tran_AllCity | wc -l"
      ],
      "metadata": {
        "colab": {
          "base_uri": "https://localhost:8080/"
        },
        "id": "G_xl8EpDGKXY",
        "outputId": "a2ec14f1-4d01-4ed8-80a4-30c39c158734"
      },
      "execution_count": null,
      "outputs": [
        {
          "output_type": "stream",
          "name": "stdout",
          "text": [
            "7\n"
          ]
        }
      ]
    },
    {
      "cell_type": "code",
      "source": [
        "# create a function to capture dataframes\n",
        "def video_to_frames(start, end, vid_cap, output_folder, f_name, sampling_rate=5):\n",
        "  \"\"\"\n",
        "  function retreives video caputre instance and saves video frames per second in a \n",
        "  subdirectory named after video file. file saved as jpg with video file name + sec\n",
        "  data frame returned with file names of frames \n",
        "  :param vid_cap: instance of cv2 video capture\n",
        "  :param output_folder: str of output folder name\n",
        "  :param directory: str directory path\n",
        "  :param f_name: str cctv filename\n",
        "  :return: dataframe\n",
        "  \"\"\"\n",
        "  # retrieve if frame exists\n",
        "  frame_exists, frame = vid_cap.read()\n",
        "  # to hold data for df\n",
        "  frames_data_array = []\n",
        "  \n",
        "  # get vid properties\n",
        "  length = int(vid_cap.get(cv2.CAP_PROP_FRAME_COUNT) / vid_cap.get(cv2.CAP_PROP_FPS))\n",
        "  # path = directory + output_folder\n",
        "\n",
        "  # loop through frames\n",
        "  for i in range(end-start+1):\n",
        "    for j in range(1,sampling_rate+1,1):\n",
        "\n",
        "      vid_cap.set(cv2.CAP_PROP_POS_MSEC, (((start+i) + (j/sampling_rate)) * 1000))\n",
        "      frame_exists, frame = vid_cap.read()\n",
        "\n",
        "      # save in drive\n",
        "      frame_name = f_name + '_' + str(start+i) + '_' + str(j) + '.jpg'\n",
        "      cv2.imwrite(output_folder + frame_name, frame)\n",
        "\n",
        "  print('success')"
      ],
      "metadata": {
        "id": "vst8t5BtN5KF"
      },
      "execution_count": null,
      "outputs": []
    },
    {
      "cell_type": "code",
      "source": [
        "!ls drive/MyDrive/CCTV/CCTV_2014_10_Downstream/*wmv"
      ],
      "metadata": {
        "id": "LeaC_jBquxQP",
        "colab": {
          "base_uri": "https://localhost:8080/"
        },
        "outputId": "d85a5bec-a855-4400-aefe-347ab4f2e444"
      },
      "execution_count": null,
      "outputs": [
        {
          "output_type": "stream",
          "name": "stdout",
          "text": [
            "drive/MyDrive/CCTV/CCTV_2014_10_Downstream/1_336_337.wmv\n",
            "drive/MyDrive/CCTV/CCTV_2014_10_Downstream/1_341_302_1_2.wmv\n",
            "drive/MyDrive/CCTV/CCTV_2014_10_Downstream/1_341_302_1.wmv\n",
            "drive/MyDrive/CCTV/CCTV_2014_10_Downstream/1_341_302.wmv\n",
            "drive/MyDrive/CCTV/CCTV_2014_10_Downstream/1_342_341.wmv\n",
            "drive/MyDrive/CCTV/CCTV_2014_10_Downstream/1_346_332.wmv\n",
            "drive/MyDrive/CCTV/CCTV_2014_10_Downstream/1_348_360.wmv\n",
            "drive/MyDrive/CCTV/CCTV_2014_10_Downstream/1_350_362.wmv\n",
            "drive/MyDrive/CCTV/CCTV_2014_10_Downstream/1_352_363.wmv\n",
            "drive/MyDrive/CCTV/CCTV_2014_10_Downstream/1_354_364.wmv\n",
            "drive/MyDrive/CCTV/CCTV_2014_10_Downstream/1_355_342.wmv\n",
            "drive/MyDrive/CCTV/CCTV_2014_10_Downstream/1_523_425.wmv\n",
            "drive/MyDrive/CCTV/CCTV_2014_10_Downstream/1_524_523.wmv\n",
            "drive/MyDrive/CCTV/CCTV_2014_10_Downstream/1_525_524.wmv\n",
            "drive/MyDrive/CCTV/CCTV_2014_10_Downstream/1_528_526.wmv\n",
            "drive/MyDrive/CCTV/CCTV_2014_10_Downstream/1_529_528.wmv\n",
            "drive/MyDrive/CCTV/CCTV_2014_10_Downstream/1_530_367.wmv\n",
            "drive/MyDrive/CCTV/CCTV_2014_10_Downstream/1_531_530.wmv\n",
            "drive/MyDrive/CCTV/CCTV_2014_10_Downstream/1_552_531.wmv\n",
            "drive/MyDrive/CCTV/CCTV_2014_10_Downstream/1_578_346.wmv\n",
            "drive/MyDrive/CCTV/CCTV_2014_10_Downstream/1_597_688.wmv\n",
            "drive/MyDrive/CCTV/CCTV_2014_10_Downstream/1_DE_101_336.wmv\n",
            "drive/MyDrive/CCTV/CCTV_2014_10_Downstream/1_DE_107_346.wmv\n",
            "drive/MyDrive/CCTV/CCTV_2014_10_Downstream/1_DE_110_355.wmv\n",
            "drive/MyDrive/CCTV/CCTV_2014_10_Downstream/1_DE_111_597.wmv\n",
            "drive/MyDrive/CCTV/CCTV_2014_10_Downstream/1_DE_165_552.wmv\n"
          ]
        }
      ]
    },
    {
      "cell_type": "code",
      "source": [
        "input_path = 'drive/MyDrive/CCTV/CCTV_2014_10_Downstream/'\n",
        "output_path = 'drive/MyDrive/cae_processed_dataset5/'"
      ],
      "metadata": {
        "id": "UAqBMRTd_SDU"
      },
      "execution_count": null,
      "outputs": []
    },
    {
      "cell_type": "code",
      "source": [
        "splice_dict = {\n",
        "    '1_336_337.wmv': [(398,401), (500,513)],\n",
        "    '1_341_302.wmv': [(384,432), (514,524)],\n",
        "    '1_348_360.wmv': [(561,581)],\n",
        "    '1_350_362.wmv': [(667,673), (853,855)],\n",
        "    '1_354_364.wmv': [(477,488), (536,592)],\n",
        "    '1_523_425.wmv': [(126,139), (165,188), (208,252), (388,395)],\n",
        "    '1_524_523.wmv': [(73,83), (117,126), (164,169), (624,653)],\n",
        "    '1_525_524.wmv': [(52,116), (260,304)],\n",
        "    '1_528_526.wmv': [(56,58), (72,76), (297,307), (323,331), (389,411)],\n",
        "    '1_552_531.wmv': [(540,548), (588,613), (483,515)], #\n",
        "    '1_DE_101_336.wmv': [(181,213),(408,413)],\n",
        "    '1_DE_107_346.wmv': [(247,254), (380,397), (488,499), (597,619), (668,703), (729,750),(945,980)],\n",
        "    '1_DE_165_552.wmv': [(242,256)]\n",
        "}"
      ],
      "metadata": {
        "id": "rEZBIXJfmDCp"
      },
      "execution_count": null,
      "outputs": []
    },
    {
      "cell_type": "code",
      "source": [
        "splice_dict2 = {\n",
        "    '1_336_337.wmv': [(62,80), (499,507), (748,755)],\n",
        "    '1_341_302.wmv': [(361,377),(406,427),(514,519)],\n",
        "    '1_348_360.wmv': [(561,577)],\n",
        "    '1_341_302_1.wmv': [(48,57), (251,307)],\n",
        "    '1_342_341.wmv': [(248,270), (402,417)],\n",
        "    '1_350_362.wmv': [(667,673), (853,84)],\n",
        "    '1_354_364.wmv': [(477,488), (551,581)],\n",
        "    '1_355_342.wmv': [(661,683), (733,771)],\n",
        "    '1_524_523.wmv': [(73,81), (174,177)],\n",
        "    '1_525_524.wmv': [(66,116), (260,269)],\n",
        "    '1_528_526.wmv': [(72,76), (300,307), (323,331), (389,411)],\n",
        "    '1_529_528.wmv': [(261,284)],\n",
        "    '1_552_531.wmv': [(542,548), (588,604), (483,515)],\n",
        "    '1_DE_101_336.wmv': [(181,213), (408,413)],\n",
        "    '1_DE_107_346.wmv': [(248,254), (382,409), (497,509), (597,619), (668,697), (730,765), (951,979)],\n",
        "    '1_DE_111_597.wmv': [(250,258)],\n",
        "    '1_DE_165_552.wmv': [(242,254)]\n",
        "}\n",
        "\n"
      ],
      "metadata": {
        "id": "wFiWDfVQTAKi"
      },
      "execution_count": null,
      "outputs": []
    },
    {
      "cell_type": "code",
      "source": [
        "# test on one\n",
        "# video_to_frames(start, end, vid_cap, output_folder, f_name):\n",
        "f_name = '1_336_337.wmv'\n",
        "start = 398\n",
        "end = 401\n",
        "vid_raw = cv2.VideoCapture(input_path + f_name)\n",
        "video_to_frames(start, end, vid_raw, output_path, f_name)"
      ],
      "metadata": {
        "colab": {
          "base_uri": "https://localhost:8080/"
        },
        "id": "7a_maS5VYVgz",
        "outputId": "2738d80c-d42d-4939-825a-2560854abbaf"
      },
      "execution_count": null,
      "outputs": [
        {
          "output_type": "stream",
          "name": "stdout",
          "text": [
            "success\n"
          ]
        }
      ]
    },
    {
      "cell_type": "code",
      "source": [
        "!rm -rf drive/MyDrive/cae_folder_segmented/*"
      ],
      "metadata": {
        "id": "PfpNOZcg593d"
      },
      "execution_count": null,
      "outputs": []
    },
    {
      "cell_type": "code",
      "source": [
        "output_path"
      ],
      "metadata": {
        "colab": {
          "base_uri": "https://localhost:8080/",
          "height": 35
        },
        "id": "T5hGn_CHxLwk",
        "outputId": "62a26f7e-ad37-4a78-8f4d-01e5fe1d6b38"
      },
      "execution_count": null,
      "outputs": [
        {
          "output_type": "execute_result",
          "data": {
            "text/plain": [
              "'drive/MyDrive/cae_processed_dataset5/'"
            ],
            "application/vnd.google.colaboratory.intrinsic+json": {
              "type": "string"
            }
          },
          "metadata": {},
          "execution_count": 24
        }
      ]
    },
    {
      "cell_type": "code",
      "source": [
        "for name in splice_dict2.keys():\n",
        "  print(input_path + name)\n",
        "  file_path = input_path + name\n",
        "  vid_raw = cv2.VideoCapture(file_path)\n",
        "  for times in splice_dict2[name]:\n",
        "    start = times[0]    \n",
        "    end = times[1]\n",
        "    print(start, end)\n",
        "    video_to_frames(start, end, vid_raw, output_path, name, sampling_rate=10)"
      ],
      "metadata": {
        "id": "eHmFWLICPSqp",
        "colab": {
          "base_uri": "https://localhost:8080/"
        },
        "outputId": "ebcfccfd-1039-4405-eb8a-a7df5a4c1f63"
      },
      "execution_count": null,
      "outputs": [
        {
          "output_type": "stream",
          "name": "stdout",
          "text": [
            "drive/MyDrive/CCTV/CCTV_2014_10_Downstream/1_336_337.wmv\n",
            "62 80\n",
            "success\n",
            "499 507\n",
            "success\n",
            "748 755\n",
            "success\n",
            "drive/MyDrive/CCTV/CCTV_2014_10_Downstream/1_341_302.wmv\n",
            "361 377\n",
            "success\n",
            "406 427\n",
            "success\n",
            "514 519\n",
            "success\n",
            "drive/MyDrive/CCTV/CCTV_2014_10_Downstream/1_348_360.wmv\n",
            "561 577\n",
            "success\n",
            "drive/MyDrive/CCTV/CCTV_2014_10_Downstream/1_341_302_1.wmv\n",
            "48 57\n",
            "success\n",
            "251 307\n",
            "success\n",
            "drive/MyDrive/CCTV/CCTV_2014_10_Downstream/1_342_341.wmv\n",
            "248 270\n",
            "success\n",
            "402 417\n",
            "success\n",
            "drive/MyDrive/CCTV/CCTV_2014_10_Downstream/1_350_362.wmv\n",
            "667 673\n",
            "success\n",
            "853 84\n",
            "success\n",
            "drive/MyDrive/CCTV/CCTV_2014_10_Downstream/1_354_364.wmv\n",
            "477 488\n",
            "success\n",
            "551 581\n",
            "success\n",
            "drive/MyDrive/CCTV/CCTV_2014_10_Downstream/1_355_342.wmv\n",
            "661 683\n",
            "success\n",
            "733 771\n",
            "success\n",
            "drive/MyDrive/CCTV/CCTV_2014_10_Downstream/1_524_523.wmv\n",
            "73 81\n",
            "success\n",
            "174 177\n",
            "success\n",
            "drive/MyDrive/CCTV/CCTV_2014_10_Downstream/1_525_524.wmv\n",
            "66 116\n",
            "success\n",
            "260 269\n",
            "success\n",
            "drive/MyDrive/CCTV/CCTV_2014_10_Downstream/1_528_526.wmv\n",
            "72 76\n",
            "success\n",
            "300 307\n",
            "success\n",
            "323 331\n",
            "success\n",
            "389 411\n",
            "success\n",
            "drive/MyDrive/CCTV/CCTV_2014_10_Downstream/1_529_528.wmv\n",
            "261 284\n",
            "success\n",
            "drive/MyDrive/CCTV/CCTV_2014_10_Downstream/1_552_531.wmv\n",
            "542 548\n",
            "success\n",
            "588 604\n",
            "success\n",
            "483 515\n",
            "success\n",
            "drive/MyDrive/CCTV/CCTV_2014_10_Downstream/1_DE_101_336.wmv\n",
            "181 213\n",
            "success\n",
            "408 413\n",
            "success\n",
            "drive/MyDrive/CCTV/CCTV_2014_10_Downstream/1_DE_107_346.wmv\n",
            "248 254\n",
            "success\n",
            "382 409\n",
            "success\n",
            "497 509\n",
            "success\n",
            "597 619\n",
            "success\n",
            "668 697\n",
            "success\n",
            "730 765\n",
            "success\n",
            "951 979\n",
            "success\n",
            "drive/MyDrive/CCTV/CCTV_2014_10_Downstream/1_DE_111_597.wmv\n",
            "250 258\n",
            "success\n",
            "drive/MyDrive/CCTV/CCTV_2014_10_Downstream/1_DE_165_552.wmv\n",
            "242 254\n",
            "success\n"
          ]
        }
      ]
    },
    {
      "cell_type": "code",
      "source": [
        "!ls drive/MyDrive/cae_processed_dataset5 | wc -l"
      ],
      "metadata": {
        "colab": {
          "base_uri": "https://localhost:8080/"
        },
        "id": "_KK3Umfnlr67",
        "outputId": "0ab4bd49-0622-4820-c87f-9a572fd8275c"
      },
      "execution_count": null,
      "outputs": [
        {
          "output_type": "stream",
          "name": "stdout",
          "text": [
            "7430\n"
          ]
        }
      ]
    },
    {
      "cell_type": "markdown",
      "source": [
        "# Preprocess Video for YOLO Test"
      ],
      "metadata": {
        "id": "bziuLeQQ_fVV"
      }
    },
    {
      "cell_type": "code",
      "source": [
        "!ls drive/MyDrive/cae_vid_test/"
      ],
      "metadata": {
        "id": "vx1Z65Ycn2kU"
      },
      "execution_count": null,
      "outputs": []
    },
    {
      "cell_type": "code",
      "source": [
        "f_path = 'drive/MyDrive/CCTV/CCTV_2013_05_Various/MH308-MH315-08090513.m4v'\n",
        "f_name = 'MH308-MH315-08090513.wmv'\n",
        "out_path = 'drive/MyDrive/CCTV_Frames_2013_05_Various/'"
      ],
      "metadata": {
        "id": "dX5j9xEP-tEP"
      },
      "execution_count": null,
      "outputs": []
    },
    {
      "cell_type": "code",
      "source": [
        "vid_cap = cv2.VideoCapture(f_path)\n",
        "length = int(vid_cap.get(cv2.CAP_PROP_FRAME_COUNT) / vid_cap.get(cv2.CAP_PROP_FPS))\n",
        "\n",
        "video_to_frames(270, 360, vid_cap, out_path, f_name, 2)"
      ],
      "metadata": {
        "colab": {
          "base_uri": "https://localhost:8080/"
        },
        "id": "on7TcP4IAyr_",
        "outputId": "1bd68a96-4e3f-4891-9db9-9d01f4123d91"
      },
      "execution_count": null,
      "outputs": [
        {
          "output_type": "stream",
          "name": "stdout",
          "text": [
            "success\n"
          ]
        }
      ]
    },
    {
      "cell_type": "code",
      "source": [],
      "metadata": {
        "id": "TOPhD77OIXhK"
      },
      "execution_count": null,
      "outputs": []
    }
  ]
}